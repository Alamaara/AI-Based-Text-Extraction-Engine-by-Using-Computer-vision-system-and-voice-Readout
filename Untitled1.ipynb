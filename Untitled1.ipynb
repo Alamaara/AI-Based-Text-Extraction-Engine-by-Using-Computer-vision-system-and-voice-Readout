{
 "cells": [
  {
   "cell_type": "code",
   "execution_count": 1,
   "id": "e18c133d-ff7b-4eaa-abfc-775f551eb7cf",
   "metadata": {},
   "outputs": [
    {
     "name": "stdout",
     "output_type": "stream",
     "text": [
      "Recognized Text:\n",
      "It was the best of\n",
      "times, it was the worst\n",
      "of times, it was the age\n",
      "of wisdom, it was the\n",
      "age of foolishness...\n",
      "\n"
     ]
    }
   ],
   "source": [
    "import cv2\n",
    "import pytesseract\n",
    "import pyttsx3\n",
    "def read_image(file_path):\n",
    "    #Load the image\n",
    "    img = cv2.imread(file_path)\n",
    "    \n",
    "    #Convert the image to grayscale for better text recognition\n",
    "    gray = cv2.cvtColor(img,cv2.COLOR_BGR2GRAY)\n",
    "    \n",
    "    #Use Tesseract OCR to recognize text\n",
    "    text = pytesseract.image_to_string(gray)\n",
    "    \n",
    "    #Print the recognized text\n",
    "    print(\"Recognized Text:\")\n",
    "    print(text)\n",
    "    engine  = pyttsx3.init()\n",
    "    engine.say(text)\n",
    "    engine.runAndWait()\n",
    "read_image('sample.png')"
   ]
  },
  {
   "cell_type": "code",
   "execution_count": null,
   "id": "26128903-08df-4dd5-9e8e-af9d7311c5f9",
   "metadata": {},
   "outputs": [],
   "source": []
  }
 ],
 "metadata": {
  "kernelspec": {
   "display_name": "Python 3 (ipykernel)",
   "language": "python",
   "name": "python3"
  },
  "language_info": {
   "codemirror_mode": {
    "name": "ipython",
    "version": 3
   },
   "file_extension": ".py",
   "mimetype": "text/x-python",
   "name": "python",
   "nbconvert_exporter": "python",
   "pygments_lexer": "ipython3",
   "version": "3.9.12"
  }
 },
 "nbformat": 4,
 "nbformat_minor": 5
}

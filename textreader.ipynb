{
 "cells": [
  {
   "cell_type": "code",
   "execution_count": 1,
   "id": "2833adb6-334c-4313-a2d7-099e1b126846",
   "metadata": {},
   "outputs": [
    {
     "name": "stdout",
     "output_type": "stream",
     "text": [
      "Collecting opencv-pythonNote: you may need to restart the kernel to use updated packages.\n",
      "\n",
      "  Downloading opencv_python-4.10.0.84-cp37-abi3-win_amd64.whl.metadata (20 kB)\n",
      "Collecting pytesseract\n",
      "  Downloading pytesseract-0.3.13-py3-none-any.whl.metadata (11 kB)\n",
      "Collecting pyttsx3\n",
      "  Downloading pyttsx3-2.98-py3-none-any.whl.metadata (3.8 kB)\n",
      "Collecting numpy>=1.21.2 (from opencv-python)\n",
      "  Downloading numpy-2.1.2-cp312-cp312-win_amd64.whl.metadata (59 kB)\n",
      "Requirement already satisfied: packaging>=21.3 in c:\\users\\kazia\\onedrive\\desktop\\major project 2024-25\\textreader\\lib\\site-packages (from pytesseract) (24.1)\n",
      "Collecting Pillow>=8.0.0 (from pytesseract)\n",
      "  Downloading pillow-10.4.0-cp312-cp312-win_amd64.whl.metadata (9.3 kB)\n",
      "Collecting comtypes (from pyttsx3)\n",
      "  Downloading comtypes-1.4.7-py3-none-any.whl.metadata (6.5 kB)\n",
      "Collecting pypiwin32 (from pyttsx3)\n",
      "  Downloading pypiwin32-223-py3-none-any.whl.metadata (236 bytes)\n",
      "Requirement already satisfied: pywin32 in c:\\users\\kazia\\onedrive\\desktop\\major project 2024-25\\textreader\\lib\\site-packages (from pyttsx3) (308)\n",
      "Downloading opencv_python-4.10.0.84-cp37-abi3-win_amd64.whl (38.8 MB)\n",
      "   ---------------------------------------- 0.0/38.8 MB ? eta -:--:--\n",
      "   - -------------------------------------- 1.6/38.8 MB 9.3 MB/s eta 0:00:05\n",
      "   --- ------------------------------------ 3.7/38.8 MB 9.5 MB/s eta 0:00:04\n",
      "   ----- ---------------------------------- 5.8/38.8 MB 10.1 MB/s eta 0:00:04\n",
      "   ------- -------------------------------- 7.6/38.8 MB 9.8 MB/s eta 0:00:04\n",
      "   --------- ------------------------------ 9.4/38.8 MB 9.5 MB/s eta 0:00:04\n",
      "   ----------- ---------------------------- 11.5/38.8 MB 9.5 MB/s eta 0:00:03\n",
      "   ------------- -------------------------- 13.1/38.8 MB 9.3 MB/s eta 0:00:03\n",
      "   --------------- ------------------------ 14.9/38.8 MB 9.3 MB/s eta 0:00:03\n",
      "   ----------------- ---------------------- 16.8/38.8 MB 9.3 MB/s eta 0:00:03\n",
      "   ------------------ --------------------- 18.4/38.8 MB 9.1 MB/s eta 0:00:03\n",
      "   -------------------- ------------------- 19.7/38.8 MB 9.0 MB/s eta 0:00:03\n",
      "   ---------------------- ----------------- 21.8/38.8 MB 8.9 MB/s eta 0:00:02\n",
      "   ------------------------ --------------- 23.3/38.8 MB 8.9 MB/s eta 0:00:02\n",
      "   -------------------------- ------------- 25.4/38.8 MB 8.9 MB/s eta 0:00:02\n",
      "   ---------------------------- ----------- 27.5/38.8 MB 8.9 MB/s eta 0:00:02\n",
      "   ------------------------------ --------- 29.4/38.8 MB 9.0 MB/s eta 0:00:02\n",
      "   -------------------------------- ------- 31.5/38.8 MB 9.1 MB/s eta 0:00:01\n",
      "   ---------------------------------- ----- 33.3/38.8 MB 9.0 MB/s eta 0:00:01\n",
      "   ------------------------------------ --- 35.1/38.8 MB 9.0 MB/s eta 0:00:01\n",
      "   -------------------------------------- - 37.2/38.8 MB 9.1 MB/s eta 0:00:01\n",
      "   ---------------------------------------  38.8/38.8 MB 9.2 MB/s eta 0:00:01\n",
      "   ---------------------------------------- 38.8/38.8 MB 8.7 MB/s eta 0:00:00\n",
      "Downloading pytesseract-0.3.13-py3-none-any.whl (14 kB)\n",
      "Downloading pyttsx3-2.98-py3-none-any.whl (34 kB)\n",
      "Downloading numpy-2.1.2-cp312-cp312-win_amd64.whl (12.6 MB)\n",
      "   ---------------------------------------- 0.0/12.6 MB ? eta -:--:--\n",
      "   ------- -------------------------------- 2.4/12.6 MB 11.2 MB/s eta 0:00:01\n",
      "   --------------- ------------------------ 4.7/12.6 MB 10.9 MB/s eta 0:00:01\n",
      "   ---------------------- ----------------- 7.1/12.6 MB 11.2 MB/s eta 0:00:01\n",
      "   ----------------------------- ---------- 9.2/12.6 MB 11.0 MB/s eta 0:00:01\n",
      "   ----------------------------------- ---- 11.3/12.6 MB 11.0 MB/s eta 0:00:01\n",
      "   ---------------------------------------- 12.6/12.6 MB 10.4 MB/s eta 0:00:00\n",
      "Downloading pillow-10.4.0-cp312-cp312-win_amd64.whl (2.6 MB)\n",
      "   ---------------------------------------- 0.0/2.6 MB ? eta -:--:--\n",
      "   -------------------------------- ------- 2.1/2.6 MB 10.7 MB/s eta 0:00:01\n",
      "   ---------------------------------------- 2.6/2.6 MB 9.8 MB/s eta 0:00:00\n",
      "Downloading comtypes-1.4.7-py3-none-any.whl (226 kB)\n",
      "Downloading pypiwin32-223-py3-none-any.whl (1.7 kB)\n",
      "Installing collected packages: pypiwin32, Pillow, numpy, comtypes, pyttsx3, pytesseract, opencv-python\n",
      "Successfully installed Pillow-10.4.0 comtypes-1.4.7 numpy-2.1.2 opencv-python-4.10.0.84 pypiwin32-223 pytesseract-0.3.13 pyttsx3-2.98\n"
     ]
    }
   ],
   "source": []
  },
  {
   "cell_type": "code",
   "execution_count": 2,
   "id": "ca3c50af-9194-49af-b23a-91e26031a0f5",
   "metadata": {},
   "outputs": [
    {
     "name": "stdout",
     "output_type": "stream",
     "text": [
      "Requirement already satisfied: opencv-python in c:\\users\\kazia\\onedrive\\desktop\\major project 2024-25\\textreader\\lib\\site-packages (4.10.0.84)Note: you may need to restart the kernel to use updated packages.\n",
      "\n",
      "Requirement already satisfied: pytesseract in c:\\users\\kazia\\onedrive\\desktop\\major project 2024-25\\textreader\\lib\\site-packages (0.3.13)\n",
      "Requirement already satisfied: pyttsx3 in c:\\users\\kazia\\onedrive\\desktop\\major project 2024-25\\textreader\\lib\\site-packages (2.98)\n",
      "Requirement already satisfied: numpy>=1.21.2 in c:\\users\\kazia\\onedrive\\desktop\\major project 2024-25\\textreader\\lib\\site-packages (from opencv-python) (2.1.2)\n",
      "Requirement already satisfied: packaging>=21.3 in c:\\users\\kazia\\onedrive\\desktop\\major project 2024-25\\textreader\\lib\\site-packages (from pytesseract) (24.1)\n",
      "Requirement already satisfied: Pillow>=8.0.0 in c:\\users\\kazia\\onedrive\\desktop\\major project 2024-25\\textreader\\lib\\site-packages (from pytesseract) (10.4.0)\n",
      "Requirement already satisfied: comtypes in c:\\users\\kazia\\onedrive\\desktop\\major project 2024-25\\textreader\\lib\\site-packages (from pyttsx3) (1.4.7)\n",
      "Requirement already satisfied: pypiwin32 in c:\\users\\kazia\\onedrive\\desktop\\major project 2024-25\\textreader\\lib\\site-packages (from pyttsx3) (223)\n",
      "Requirement already satisfied: pywin32 in c:\\users\\kazia\\onedrive\\desktop\\major project 2024-25\\textreader\\lib\\site-packages (from pyttsx3) (308)\n"
     ]
    }
   ],
   "source": [
    "pip install opencv-python pytesseract pyttsx3"
   ]
  },
  {
   "cell_type": "code",
   "execution_count": 3,
   "id": "e52a4a83-f268-4b5a-9e70-69788ead4968",
   "metadata": {},
   "outputs": [
    {
     "ename": "NameError",
     "evalue": "name 'tesseract' is not defined",
     "output_type": "error",
     "traceback": [
      "\u001b[1;31m---------------------------------------------------------------------------\u001b[0m",
      "\u001b[1;31mNameError\u001b[0m                                 Traceback (most recent call last)",
      "Cell \u001b[1;32mIn[3], line 1\u001b[0m\n\u001b[1;32m----> 1\u001b[0m \u001b[43mtesseract\u001b[49m \u001b[38;5;241m-\u001b[39m\u001b[38;5;241m-\u001b[39mversion\n",
      "\u001b[1;31mNameError\u001b[0m: name 'tesseract' is not defined"
     ]
    }
   ],
   "source": [
    "tesseract --version"
   ]
  },
  {
   "cell_type": "code",
   "execution_count": 4,
   "id": "90ae3e69-26c2-4efb-aa29-7f5e31dc1fde",
   "metadata": {},
   "outputs": [],
   "source": [
    "import cv2\n",
    "import pytesseract\n",
    "import pyttsx3"
   ]
  },
  {
   "cell_type": "code",
   "execution_count": 5,
   "id": "eb889bc9-ec1a-43f0-b0a9-570c25bbcc02",
   "metadata": {},
   "outputs": [
    {
     "ename": "SyntaxError",
     "evalue": "invalid syntax (837621161.py, line 1)",
     "output_type": "error",
     "traceback": [
      "\u001b[1;36m  Cell \u001b[1;32mIn[5], line 1\u001b[1;36m\u001b[0m\n\u001b[1;33m    def read_image(\"textreader/sample.png\")\u001b[0m\n\u001b[1;37m                   ^\u001b[0m\n\u001b[1;31mSyntaxError\u001b[0m\u001b[1;31m:\u001b[0m invalid syntax\n"
     ]
    }
   ],
   "source": [
    "def read_image(\"textreader/sample.png\")\n",
    "#Load the image\n",
    "img=cv2.imread(\"textreader/sample.png\")\n"
   ]
  },
  {
   "cell_type": "code",
   "execution_count": 6,
   "id": "2658da21-704f-4ad0-b757-b03783a2decf",
   "metadata": {},
   "outputs": [
    {
     "ename": "SyntaxError",
     "evalue": "invalid syntax (2475892416.py, line 1)",
     "output_type": "error",
     "traceback": [
      "\u001b[1;36m  Cell \u001b[1;32mIn[6], line 1\u001b[1;36m\u001b[0m\n\u001b[1;33m    def read_image(textreader/sample.png)\u001b[0m\n\u001b[1;37m                             ^\u001b[0m\n\u001b[1;31mSyntaxError\u001b[0m\u001b[1;31m:\u001b[0m invalid syntax\n"
     ]
    }
   ],
   "source": [
    "def read_image(textreader/sample.png)\n",
    "#Load the image\n",
    "img=cv2.imread(textreader/sample.png)"
   ]
  },
  {
   "cell_type": "code",
   "execution_count": 7,
   "id": "98eba423-0299-4610-9fa8-0ee39f9315a0",
   "metadata": {},
   "outputs": [
    {
     "ename": "SyntaxError",
     "evalue": "unexpected character after line continuation character (611738879.py, line 1)",
     "output_type": "error",
     "traceback": [
      "\u001b[1;36m  Cell \u001b[1;32mIn[7], line 1\u001b[1;36m\u001b[0m\n\u001b[1;33m    def read_image(textreader\\sample.png)\u001b[0m\n\u001b[1;37m                              ^\u001b[0m\n\u001b[1;31mSyntaxError\u001b[0m\u001b[1;31m:\u001b[0m unexpected character after line continuation character\n"
     ]
    }
   ],
   "source": [
    "def read_image(textreader\\sample.png)\n",
    "#Load the image\n",
    "img=cv2.imread(textreader\\sample.png)"
   ]
  },
  {
   "cell_type": "code",
   "execution_count": 10,
   "id": "f4695cec-b1e5-4ded-924a-c8e5d98adb93",
   "metadata": {},
   "outputs": [
    {
     "ename": "IndentationError",
     "evalue": "expected an indented block after function definition on line 1 (2543314308.py, line 3)",
     "output_type": "error",
     "traceback": [
      "\u001b[1;36m  Cell \u001b[1;32mIn[10], line 3\u001b[1;36m\u001b[0m\n\u001b[1;33m    img=cv2.imread(textreader\\sample.png)\u001b[0m\n\u001b[1;37m    ^\u001b[0m\n\u001b[1;31mIndentationError\u001b[0m\u001b[1;31m:\u001b[0m expected an indented block after function definition on line 1\n"
     ]
    }
   ],
   "source": [
    "def read_image(textreader):\n",
    "#Load the image\n",
    "img=cv2.imread(textreader\\sample.png)"
   ]
  },
  {
   "cell_type": "code",
   "execution_count": 11,
   "id": "3997f53a-6645-4015-9970-35d88cc3bc3b",
   "metadata": {},
   "outputs": [
    {
     "ename": "SyntaxError",
     "evalue": "unexpected character after line continuation character (3940629946.py, line 3)",
     "output_type": "error",
     "traceback": [
      "\u001b[1;36m  Cell \u001b[1;32mIn[11], line 3\u001b[1;36m\u001b[0m\n\u001b[1;33m    img=cv2.imread(textreader\\sample.png)\u001b[0m\n\u001b[1;37m                              ^\u001b[0m\n\u001b[1;31mSyntaxError\u001b[0m\u001b[1;31m:\u001b[0m unexpected character after line continuation character\n"
     ]
    }
   ],
   "source": [
    "def read_image(textreader):\n",
    "    #Load the image\n",
    "    img=cv2.imread(\"textreader\\sample.png\")"
   ]
  },
  {
   "cell_type": "code",
   "execution_count": null,
   "id": "309cfb21-f49a-4846-ba48-f7ffe7603810",
   "metadata": {},
   "outputs": [],
   "source": []
  }
 ],
 "metadata": {
  "kernelspec": {
   "display_name": "textreader",
   "language": "python",
   "name": "textreader"
  },
  "language_info": {
   "codemirror_mode": {
    "name": "ipython",
    "version": 3
   },
   "file_extension": ".py",
   "mimetype": "text/x-python",
   "name": "python",
   "nbconvert_exporter": "python",
   "pygments_lexer": "ipython3",
   "version": "3.12.6"
  }
 },
 "nbformat": 4,
 "nbformat_minor": 5
}
